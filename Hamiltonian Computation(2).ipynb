{
 "cells": [
  {
   "cell_type": "code",
   "execution_count": 1,
   "metadata": {},
   "outputs": [],
   "source": [
    "import numpy as np\n",
    "from numpy import linalg as LA"
   ]
  },
  {
   "cell_type": "code",
   "execution_count": 12,
   "metadata": {
    "scrolled": false
   },
   "outputs": [
    {
     "name": "stdout",
     "output_type": "stream",
     "text": [
      "[array([[-0., -0., -1., -0.],\n",
      "       [-0., -0., -0., -1.],\n",
      "       [-0., -0., -0., -0.],\n",
      "       [-0., -0., -0., -0.]]), array([[ 0, -1,  0,  0],\n",
      "       [ 0,  0,  0,  0],\n",
      "       [ 0,  0,  0,  1],\n",
      "       [ 0,  0,  0,  0]])]\n",
      "[[-0. -0. -1. -0.]\n",
      " [-0. -0. -0. -1.]\n",
      " [-1. -0. -0. -0.]\n",
      " [-0. -1. -0. -0.]]\n",
      "[[0.-0.j 0.-0.j 0.-1.j 0.-0.j]\n",
      " [0.-0.j 0.-0.j 0.-0.j 0.-1.j]\n",
      " [0.+1.j 0.-0.j 0.-0.j 0.-0.j]\n",
      " [0.-0.j 0.+1.j 0.-0.j 0.-0.j]]\n"
     ]
    }
   ],
   "source": [
    "def Kronecker_product(a):\n",
    "    if len(a) == 2:\n",
    "        return np.kron(a[0],a[1])\n",
    "    else:\n",
    "        return np.kron(a[0], Kronecker_product(a[1:]))\n",
    "    \n",
    "def JW_transform(j, length):\n",
    "    sigma = np.array([[0, 1], [0, 0]])\n",
    "    sigma_z = np.array([[1, 0], [0, -1]])\n",
    "    I = np.eye(2)\n",
    "    operators = []\n",
    "    for k in range(j):\n",
    "        operators.append(sigma_z)\n",
    "    operators.append(sigma)\n",
    "    for k in range(length-j-1):\n",
    "        operators.append(I)\n",
    "    return -Kronecker_product(operators)\n",
    "\n",
    "length = 2\n",
    "c = []\n",
    "for i in range(length):\n",
    "    c.append(JW_transform(i, length))\n",
    "\n",
    "def a(c,i):\n",
    "    return c[i] + c[i].T\n",
    "\n",
    "def b(c,i):\n",
    "    return -1j*(c[i].T-c[i])\n",
    "    \n",
    "print(c)\n",
    "print(a(c,0))\n",
    "print(b(c,0))"
   ]
  },
  {
   "cell_type": "code",
   "execution_count": 9,
   "metadata": {},
   "outputs": [
    {
     "name": "stdout",
     "output_type": "stream",
     "text": [
      "(array([[-2.+0.j,  0.+0.j,  0.+0.j, -1.+0.j],\n",
      "       [ 0.+0.j,  0.+0.j, -1.+0.j,  0.+0.j],\n",
      "       [ 0.+0.j, -1.+0.j,  0.+0.j,  0.+0.j],\n",
      "       [-1.+0.j,  0.+0.j,  0.+0.j,  2.+0.j]]), array([-2.23606798+0.j,  2.23606798+0.j,  1.        +0.j, -1.        +0.j]), array([[ 0.97324899+0.j, -0.22975292+0.j,  0.        +0.j,\n",
      "         0.        +0.j],\n",
      "       [-0.        +0.j,  0.        +0.j,  0.70710678+0.j,\n",
      "         0.70710678+0.j],\n",
      "       [-0.        +0.j,  0.        +0.j, -0.70710678+0.j,\n",
      "         0.70710678+0.j],\n",
      "       [ 0.22975292-0.j,  0.97324899+0.j,  0.        +0.j,\n",
      "         0.        +0.j]]))\n"
     ]
    }
   ],
   "source": [
    "#Hamiltonian, for simplicity J,h = 1\n",
    "\n",
    "def Dirac(c):\n",
    "    H = 0\n",
    "    for i in range(length - 1):\n",
    "        H += -c[i].T.dot(c[i+1]) + c[i].dot(c[i+1].T)\n",
    "        H -= (c[i].T.dot(c[i+1].T) - c[i].dot(c[i+1]))\n",
    "    for i in range(length):\n",
    "        H -= np.eye(2**length)-2*(c[i].T.dot(c[i])) + c[i].dot(c[i].T)\n",
    "        v,w = np.linalg.eig(H)\n",
    "    return H,v,w\n",
    "\n",
    "def Majorana(c):\n",
    "    H = 0\n",
    "    for i in range(length - 1):\n",
    "        H -= 1j*b(c,i).dot(a(c,i+1))\n",
    "    for i in range(length):\n",
    "        H -= 1j*a(c,i).dot(b(c,i))\n",
    "        v,w = np.linalg.eig(H)\n",
    "    return H,v,w\n",
    "\n",
    "print(Majorana(c))"
   ]
  },
  {
   "cell_type": "code",
   "execution_count": null,
   "metadata": {},
   "outputs": [],
   "source": []
  },
  {
   "cell_type": "code",
   "execution_count": null,
   "metadata": {},
   "outputs": [],
   "source": []
  }
 ],
 "metadata": {
  "kernelspec": {
   "display_name": "Python 3",
   "language": "python",
   "name": "python3"
  },
  "language_info": {
   "codemirror_mode": {
    "name": "ipython",
    "version": 3
   },
   "file_extension": ".py",
   "mimetype": "text/x-python",
   "name": "python",
   "nbconvert_exporter": "python",
   "pygments_lexer": "ipython3",
   "version": "3.6.8"
  }
 },
 "nbformat": 4,
 "nbformat_minor": 2
}
